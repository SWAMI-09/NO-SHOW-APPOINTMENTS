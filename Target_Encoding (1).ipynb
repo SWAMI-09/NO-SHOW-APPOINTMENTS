{
 "cells": [
  {
   "cell_type": "markdown",
   "metadata": {},
   "source": [
    "Split Data into train / test before doing target encoding\n",
    "Use Train Data to build encoding, save the values, create values to be assigned for labels falling outside the scope of the current list."
   ]
  },
  {
   "cell_type": "code",
   "execution_count": 83,
   "metadata": {
    "ExecuteTime": {
     "end_time": "2021-07-22T04:02:45.650577Z",
     "start_time": "2021-07-22T04:02:45.634270Z"
    },
    "code_folding": []
   },
   "outputs": [],
   "source": [
    "#!/usr/bin/env python3\n",
    "#### Import all the required libraries\n",
    "import pandas as pd #### Library for working with large datsets\n",
    "import numpy as np #### Library for performing numerical calculations\n",
    "import matplotlib.pyplot as plt #### Basic Library for plotting graphs\n",
    "#### Configuring Matplotlib to show Plots inline\n",
    "%matplotlib inline \n",
    "plt.rcParams['figure.figsize'] = (12, 12) ### Setting the size of the Plots"
   ]
  },
  {
   "cell_type": "code",
   "execution_count": 84,
   "metadata": {
    "ExecuteTime": {
     "end_time": "2021-07-22T04:02:45.682728Z",
     "start_time": "2021-07-22T04:02:45.653074Z"
    },
    "code_folding": []
   },
   "outputs": [],
   "source": [
    "### Parsing the Date\n",
    "dateparse = lambda dates: [pd.datetime.strptime(d, '%Y-%m-%dT%H:%M:%SZ') for d in dates]"
   ]
  },
  {
   "cell_type": "code",
   "execution_count": 85,
   "metadata": {
    "ExecuteTime": {
     "end_time": "2021-07-22T04:02:48.786148Z",
     "start_time": "2021-07-22T04:02:45.684733Z"
    },
    "code_folding": []
   },
   "outputs": [
    {
     "name": "stderr",
     "output_type": "stream",
     "text": [
      "<ipython-input-84-a6a6f091ec6e>:2: FutureWarning: The pandas.datetime class is deprecated and will be removed from pandas in a future version. Import from datetime module instead.\n",
      "  dateparse = lambda dates: [pd.datetime.strptime(d, '%Y-%m-%dT%H:%M:%SZ') for d in dates]\n"
     ]
    }
   ],
   "source": [
    "#### Loading the Data\n",
    "data = pd.read_csv('noshow_appointments.csv', parse_dates=['AppointmentDay', 'ScheduledDay'], date_parser=dateparse)"
   ]
  },
  {
   "cell_type": "code",
   "execution_count": 86,
   "metadata": {
    "ExecuteTime": {
     "end_time": "2021-07-22T04:02:48.832770Z",
     "start_time": "2021-07-22T04:02:48.787615Z"
    },
    "code_folding": []
   },
   "outputs": [
    {
     "name": "stdout",
     "output_type": "stream",
     "text": [
      "<class 'pandas.core.frame.DataFrame'>\n",
      "RangeIndex: 110527 entries, 0 to 110526\n",
      "Data columns (total 14 columns):\n",
      " #   Column          Non-Null Count   Dtype         \n",
      "---  ------          --------------   -----         \n",
      " 0   PatientId       110527 non-null  float64       \n",
      " 1   AppointmentID   110527 non-null  int64         \n",
      " 2   Gender          110527 non-null  object        \n",
      " 3   ScheduledDay    110527 non-null  datetime64[ns]\n",
      " 4   AppointmentDay  110527 non-null  datetime64[ns]\n",
      " 5   Age             110527 non-null  int64         \n",
      " 6   Neighbourhood   110527 non-null  object        \n",
      " 7   Scholarship     110527 non-null  int64         \n",
      " 8   Hipertension    110527 non-null  int64         \n",
      " 9   Diabetes        110527 non-null  int64         \n",
      " 10  Alcoholism      110527 non-null  int64         \n",
      " 11  Handcap         110527 non-null  int64         \n",
      " 12  SMS_received    110527 non-null  int64         \n",
      " 13  NoShow          110527 non-null  object        \n",
      "dtypes: datetime64[ns](2), float64(1), int64(8), object(3)\n",
      "memory usage: 11.8+ MB\n"
     ]
    }
   ],
   "source": [
    "#### Looking at the overall info\n",
    "data.info()"
   ]
  },
  {
   "cell_type": "code",
   "execution_count": 87,
   "metadata": {
    "ExecuteTime": {
     "end_time": "2021-07-22T04:02:48.910702Z",
     "start_time": "2021-07-22T04:02:48.834778Z"
    }
   },
   "outputs": [],
   "source": [
    "### In this dataset we have the dependant variable being 'yes' or 'no', lets convert it to 1 or 0\n",
    "clean_up_categoricals = {'NoShow':{'Yes':1, 'No':0},\n",
    "                         'Gender' :{\"M\":0, \"F\":1}}\n",
    "data.replace(clean_up_categoricals, inplace=True)"
   ]
  },
  {
   "cell_type": "code",
   "execution_count": 88,
   "metadata": {
    "ExecuteTime": {
     "end_time": "2021-07-22T04:02:48.957808Z",
     "start_time": "2021-07-22T04:02:48.912111Z"
    }
   },
   "outputs": [],
   "source": [
    "#### Extract Y & X from Data\n",
    "Y = data['NoShow'].values\n",
    "X = data\n",
    "#### Split X & Y into train and test\n",
    "from sklearn.model_selection import train_test_split\n",
    "X_train, X_test, y_train, y_test = train_test_split(X, Y, test_size = 0.2, random_state = 0)"
   ]
  },
  {
   "cell_type": "code",
   "execution_count": 89,
   "metadata": {
    "ExecuteTime": {
     "end_time": "2021-07-22T04:02:48.988950Z",
     "start_time": "2021-07-22T04:02:48.959048Z"
    }
   },
   "outputs": [
    {
     "name": "stdout",
     "output_type": "stream",
     "text": [
      "81\n",
      "79\n"
     ]
    }
   ],
   "source": [
    "####  Find out how many unique values are there in the Train / Test Sets for Neighbourhood\n",
    "print(X_train.Neighbourhood.nunique())\n",
    "print(X_test.Neighbourhood.nunique())"
   ]
  },
  {
   "cell_type": "code",
   "execution_count": 92,
   "metadata": {
    "ExecuteTime": {
     "end_time": "2021-07-22T04:04:17.469569Z",
     "start_time": "2021-07-22T04:04:17.438946Z"
    }
   },
   "outputs": [
    {
     "name": "stdout",
     "output_type": "stream",
     "text": [
      "Neighbourhood\n",
      "AEROPORTO              0.166667\n",
      "ANDORINHAS             0.234298\n",
      "ANTÔNIO HONÓRIO        0.164251\n",
      "ARIOVALDO FAVALESSA    0.217949\n",
      "BARRO VERMELHO         0.211111\n",
      "                         ...   \n",
      "SÃO JOSÉ               0.217584\n",
      "SÃO PEDRO              0.215776\n",
      "TABUAZEIRO             0.183387\n",
      "UNIVERSITÁRIO          0.188525\n",
      "VILA RUBIM             0.171852\n",
      "Name: NoShow, Length: 81, dtype: float64\n"
     ]
    }
   ],
   "source": [
    "#### Create Target Encoding Values for each of the neighbourhoods by calculating the percentage of no_shows in that neighbourhood\n",
    "\n",
    "#print(X_train.groupby(['Neighbourhood']).NoShow.count())\n",
    "#print(X_train[X_train.NoShow==1].groupby(['Neighbourhood']).NoShow.count())\n",
    "Target_Encoding_Value = X_train[X_train.NoShow==1].groupby(['Neighbourhood']).NoShow.count()/X_train.groupby(['Neighbourhood']).NoShow.count()\n",
    "print(Target_Encoding_Value)\n",
    "Target_Encoding_Value.to_csv('Neighbourhood_Target_Encoded_Values.csv', index=True)"
   ]
  },
  {
   "cell_type": "code",
   "execution_count": 93,
   "metadata": {
    "ExecuteTime": {
     "end_time": "2021-07-22T04:06:12.280307Z",
     "start_time": "2021-07-22T04:06:12.270044Z"
    }
   },
   "outputs": [
    {
     "data": {
      "text/html": [
       "<div>\n",
       "<style scoped>\n",
       "    .dataframe tbody tr th:only-of-type {\n",
       "        vertical-align: middle;\n",
       "    }\n",
       "\n",
       "    .dataframe tbody tr th {\n",
       "        vertical-align: top;\n",
       "    }\n",
       "\n",
       "    .dataframe thead th {\n",
       "        text-align: right;\n",
       "    }\n",
       "</style>\n",
       "<table border=\"1\" class=\"dataframe\">\n",
       "  <thead>\n",
       "    <tr style=\"text-align: right;\">\n",
       "      <th></th>\n",
       "      <th>NoShow</th>\n",
       "    </tr>\n",
       "    <tr>\n",
       "      <th>Neighbourhood</th>\n",
       "      <th></th>\n",
       "    </tr>\n",
       "  </thead>\n",
       "  <tbody>\n",
       "    <tr>\n",
       "      <th>AEROPORTO</th>\n",
       "      <td>0.166667</td>\n",
       "    </tr>\n",
       "    <tr>\n",
       "      <th>ANDORINHAS</th>\n",
       "      <td>0.234298</td>\n",
       "    </tr>\n",
       "    <tr>\n",
       "      <th>ANTÔNIO HONÓRIO</th>\n",
       "      <td>0.164251</td>\n",
       "    </tr>\n",
       "    <tr>\n",
       "      <th>ARIOVALDO FAVALESSA</th>\n",
       "      <td>0.217949</td>\n",
       "    </tr>\n",
       "    <tr>\n",
       "      <th>BARRO VERMELHO</th>\n",
       "      <td>0.211111</td>\n",
       "    </tr>\n",
       "  </tbody>\n",
       "</table>\n",
       "</div>"
      ],
      "text/plain": [
       "                       NoShow\n",
       "Neighbourhood                \n",
       "AEROPORTO            0.166667\n",
       "ANDORINHAS           0.234298\n",
       "ANTÔNIO HONÓRIO      0.164251\n",
       "ARIOVALDO FAVALESSA  0.217949\n",
       "BARRO VERMELHO       0.211111"
      ]
     },
     "execution_count": 93,
     "metadata": {},
     "output_type": "execute_result"
    }
   ],
   "source": [
    "#### Replacing values in Train / Test from our Neighbourhood_Target_Encoded_Values.csv file\n",
    "\n",
    "#### Load encoded_values data from the file\n",
    "encoded_values = pd.read_csv('Neighbourhood_Target_Encoded_Values.csv', index_col='Neighbourhood')\n",
    "#print(encoded_values)\n",
    "encoded_values.head()"
   ]
  },
  {
   "cell_type": "code",
   "execution_count": 94,
   "metadata": {
    "ExecuteTime": {
     "end_time": "2021-07-22T04:08:26.781400Z",
     "start_time": "2021-07-22T04:08:26.243951Z"
    }
   },
   "outputs": [
    {
     "name": "stderr",
     "output_type": "stream",
     "text": [
      "<ipython-input-94-b144c972a8f3>:11: SettingWithCopyWarning: \n",
      "A value is trying to be set on a copy of a slice from a DataFrame.\n",
      "Try using .loc[row_indexer,col_indexer] = value instead\n",
      "\n",
      "See the caveats in the documentation: https://pandas.pydata.org/pandas-docs/stable/user_guide/indexing.html#returning-a-view-versus-a-copy\n",
      "  X_train['Target_Encoding_Value'] = 0\n",
      "<ipython-input-94-b144c972a8f3>:12: SettingWithCopyWarning: \n",
      "A value is trying to be set on a copy of a slice from a DataFrame.\n",
      "Try using .loc[row_indexer,col_indexer] = value instead\n",
      "\n",
      "See the caveats in the documentation: https://pandas.pydata.org/pandas-docs/stable/user_guide/indexing.html#returning-a-view-versus-a-copy\n",
      "  X_test['Target_Encoding_Value'] = 0\n",
      "C:\\Users\\praca\\anaconda3\\lib\\site-packages\\pandas\\core\\indexing.py:1765: SettingWithCopyWarning: \n",
      "A value is trying to be set on a copy of a slice from a DataFrame.\n",
      "Try using .loc[row_indexer,col_indexer] = value instead\n",
      "\n",
      "See the caveats in the documentation: https://pandas.pydata.org/pandas-docs/stable/user_guide/indexing.html#returning-a-view-versus-a-copy\n",
      "  isetter(loc, value)\n"
     ]
    },
    {
     "data": {
      "text/html": [
       "<div>\n",
       "<style scoped>\n",
       "    .dataframe tbody tr th:only-of-type {\n",
       "        vertical-align: middle;\n",
       "    }\n",
       "\n",
       "    .dataframe tbody tr th {\n",
       "        vertical-align: top;\n",
       "    }\n",
       "\n",
       "    .dataframe thead th {\n",
       "        text-align: right;\n",
       "    }\n",
       "</style>\n",
       "<table border=\"1\" class=\"dataframe\">\n",
       "  <thead>\n",
       "    <tr style=\"text-align: right;\">\n",
       "      <th></th>\n",
       "      <th>PatientId</th>\n",
       "      <th>AppointmentID</th>\n",
       "      <th>Gender</th>\n",
       "      <th>ScheduledDay</th>\n",
       "      <th>AppointmentDay</th>\n",
       "      <th>Age</th>\n",
       "      <th>Neighbourhood</th>\n",
       "      <th>Scholarship</th>\n",
       "      <th>Hipertension</th>\n",
       "      <th>Diabetes</th>\n",
       "      <th>Alcoholism</th>\n",
       "      <th>Handcap</th>\n",
       "      <th>SMS_received</th>\n",
       "      <th>NoShow</th>\n",
       "      <th>Target_Encoding_Value</th>\n",
       "    </tr>\n",
       "  </thead>\n",
       "  <tbody>\n",
       "    <tr>\n",
       "      <th>78500</th>\n",
       "      <td>5.296471e+13</td>\n",
       "      <td>5721041</td>\n",
       "      <td>1</td>\n",
       "      <td>2016-05-19 15:14:15</td>\n",
       "      <td>2016-05-19</td>\n",
       "      <td>24</td>\n",
       "      <td>BONFIM</td>\n",
       "      <td>0</td>\n",
       "      <td>0</td>\n",
       "      <td>0</td>\n",
       "      <td>0</td>\n",
       "      <td>1</td>\n",
       "      <td>0</td>\n",
       "      <td>0</td>\n",
       "      <td>0.196573</td>\n",
       "    </tr>\n",
       "    <tr>\n",
       "      <th>21891</th>\n",
       "      <td>4.176779e+12</td>\n",
       "      <td>5649318</td>\n",
       "      <td>1</td>\n",
       "      <td>2016-05-02 19:01:48</td>\n",
       "      <td>2016-05-13</td>\n",
       "      <td>60</td>\n",
       "      <td>GRANDE VITÓRIA</td>\n",
       "      <td>0</td>\n",
       "      <td>1</td>\n",
       "      <td>1</td>\n",
       "      <td>0</td>\n",
       "      <td>0</td>\n",
       "      <td>0</td>\n",
       "      <td>0</td>\n",
       "      <td>0.202899</td>\n",
       "    </tr>\n",
       "    <tr>\n",
       "      <th>89006</th>\n",
       "      <td>4.565824e+11</td>\n",
       "      <td>5757058</td>\n",
       "      <td>1</td>\n",
       "      <td>2016-06-01 08:55:55</td>\n",
       "      <td>2016-06-01</td>\n",
       "      <td>59</td>\n",
       "      <td>ITARARÉ</td>\n",
       "      <td>0</td>\n",
       "      <td>0</td>\n",
       "      <td>0</td>\n",
       "      <td>0</td>\n",
       "      <td>0</td>\n",
       "      <td>0</td>\n",
       "      <td>0</td>\n",
       "      <td>0.259837</td>\n",
       "    </tr>\n",
       "    <tr>\n",
       "      <th>36681</th>\n",
       "      <td>4.537513e+11</td>\n",
       "      <td>5749766</td>\n",
       "      <td>1</td>\n",
       "      <td>2016-05-31 08:11:30</td>\n",
       "      <td>2016-05-31</td>\n",
       "      <td>58</td>\n",
       "      <td>RESISTÊNCIA</td>\n",
       "      <td>0</td>\n",
       "      <td>1</td>\n",
       "      <td>0</td>\n",
       "      <td>0</td>\n",
       "      <td>0</td>\n",
       "      <td>0</td>\n",
       "      <td>0</td>\n",
       "      <td>0.203652</td>\n",
       "    </tr>\n",
       "    <tr>\n",
       "      <th>22388</th>\n",
       "      <td>5.346157e+12</td>\n",
       "      <td>5641183</td>\n",
       "      <td>1</td>\n",
       "      <td>2016-04-29 12:45:36</td>\n",
       "      <td>2016-05-02</td>\n",
       "      <td>38</td>\n",
       "      <td>RESISTÊNCIA</td>\n",
       "      <td>1</td>\n",
       "      <td>0</td>\n",
       "      <td>0</td>\n",
       "      <td>0</td>\n",
       "      <td>0</td>\n",
       "      <td>0</td>\n",
       "      <td>1</td>\n",
       "      <td>0.203652</td>\n",
       "    </tr>\n",
       "  </tbody>\n",
       "</table>\n",
       "</div>"
      ],
      "text/plain": [
       "          PatientId  AppointmentID  Gender        ScheduledDay AppointmentDay  \\\n",
       "78500  5.296471e+13        5721041       1 2016-05-19 15:14:15     2016-05-19   \n",
       "21891  4.176779e+12        5649318       1 2016-05-02 19:01:48     2016-05-13   \n",
       "89006  4.565824e+11        5757058       1 2016-06-01 08:55:55     2016-06-01   \n",
       "36681  4.537513e+11        5749766       1 2016-05-31 08:11:30     2016-05-31   \n",
       "22388  5.346157e+12        5641183       1 2016-04-29 12:45:36     2016-05-02   \n",
       "\n",
       "       Age   Neighbourhood  Scholarship  Hipertension  Diabetes  Alcoholism  \\\n",
       "78500   24          BONFIM            0             0         0           0   \n",
       "21891   60  GRANDE VITÓRIA            0             1         1           0   \n",
       "89006   59         ITARARÉ            0             0         0           0   \n",
       "36681   58     RESISTÊNCIA            0             1         0           0   \n",
       "22388   38     RESISTÊNCIA            1             0         0           0   \n",
       "\n",
       "       Handcap  SMS_received  NoShow  Target_Encoding_Value  \n",
       "78500        1             0       0               0.196573  \n",
       "21891        0             0       0               0.202899  \n",
       "89006        0             0       0               0.259837  \n",
       "36681        0             0       0               0.203652  \n",
       "22388        0             0       1               0.203652  "
      ]
     },
     "execution_count": 94,
     "metadata": {},
     "output_type": "execute_result"
    }
   ],
   "source": [
    "#### Replacing values in Train / Test from our Neighbourhood_Target_Encoded_Values.csv file\n",
    "\n",
    "#### Create a unique list of all neighbourhoods\n",
    "listA = X_train.Neighbourhood.unique()\n",
    "listB = X_test.Neighbourhood.unique()\n",
    "#### set function will create a set from a list helping us apply different types of set operators on the list\n",
    "#### Here we've used the OR Operator\n",
    "Full_List = list(set(listA)|set(listB))\n",
    "\n",
    "#### Create new columns in both X_train & X_test\n",
    "X_train['Target_Encoding_Value'] = 0\n",
    "X_test['Target_Encoding_Value'] = 0\n",
    "\n",
    "#### Iterate through the list of all neighbourhoods and set the Target Encoding Values\n",
    "for i,v in enumerate(Full_List):\n",
    "    X_train.loc[X_train.Neighbourhood==v,'Target_Encoding_Value'] = encoded_values.loc[v,'NoShow']\n",
    "    X_test.loc[X_test.Neighbourhood==v,'Target_Encoding_Value'] = encoded_values.loc[v,'NoShow']\n",
    "X_test.head()"
   ]
  }
 ],
 "metadata": {
  "kernelspec": {
   "display_name": "Python 3",
   "language": "python",
   "name": "python3"
  },
  "language_info": {
   "codemirror_mode": {
    "name": "ipython",
    "version": 3
   },
   "file_extension": ".py",
   "mimetype": "text/x-python",
   "name": "python",
   "nbconvert_exporter": "python",
   "pygments_lexer": "ipython3",
   "version": "3.8.5"
  },
  "varInspector": {
   "cols": {
    "lenName": 16,
    "lenType": 16,
    "lenVar": 40
   },
   "kernels_config": {
    "python": {
     "delete_cmd_postfix": "",
     "delete_cmd_prefix": "del ",
     "library": "var_list.py",
     "varRefreshCmd": "print(var_dic_list())"
    },
    "r": {
     "delete_cmd_postfix": ") ",
     "delete_cmd_prefix": "rm(",
     "library": "var_list.r",
     "varRefreshCmd": "cat(var_dic_list()) "
    }
   },
   "position": {
    "height": "144px",
    "left": "588px",
    "right": "20px",
    "top": "120px",
    "width": "350px"
   },
   "types_to_exclude": [
    "module",
    "function",
    "builtin_function_or_method",
    "instance",
    "_Feature"
   ],
   "window_display": false
  }
 },
 "nbformat": 4,
 "nbformat_minor": 2
}
